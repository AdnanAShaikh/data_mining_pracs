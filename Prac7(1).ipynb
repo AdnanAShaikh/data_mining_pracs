{
 "cells": [
  {
   "cell_type": "markdown",
   "metadata": {},
   "source": [
    "# This is chatgpt code. anyone find corrected hasan sir code from girls"
   ]
  },
  {
   "cell_type": "code",
   "execution_count": 3,
   "metadata": {},
   "outputs": [
    {
     "name": "stdout",
     "output_type": "stream",
     "text": [
      "Selected features after variance thresholding: ['sepal length (cm)', 'sepal width (cm)', 'petal length (cm)', 'petal width (cm)']\n",
      "Selected features after correlation analysis: ['sepal length (cm)', 'sepal width (cm)']\n"
     ]
    }
   ],
   "source": [
    "from sklearn.datasets import load_iris\n",
    "from sklearn.feature_selection import VarianceThreshold\n",
    "import pandas as pd\n",
    "\n",
    "# Load the Iris dataset\n",
    "iris = load_iris()\n",
    "X = iris.data\n",
    "y = iris.target\n",
    "feature_names = iris.feature_names\n",
    "\n",
    "# Convert feature matrix to DataFrame for correlation analysis\n",
    "X_df = pd.DataFrame(X, columns=feature_names)\n",
    "\n",
    "# 1. Variance Thresholding\n",
    "selector = VarianceThreshold(threshold=0.1)  # Setting a threshold of 0.1\n",
    "selector.fit(X)\n",
    "selected_indices = selector.get_support(indices=True)\n",
    "selected_features_variance = X[:, selected_indices]\n",
    "selected_feature_names_variance = [feature_names[i] for i in selected_indices]\n",
    "\n",
    "print(\"Selected features after variance thresholding:\", selected_feature_names_variance)\n",
    "\n",
    "# 2. Correlation Analysis\n",
    "correlation_matrix = X_df.corr()\n",
    "highly_correlated_features = set()\n",
    "for i in range(len(correlation_matrix.columns)):\n",
    "    for j in range(i):\n",
    "        if abs(correlation_matrix.iloc[i, j]) > 0.8:  # Adjusting the correlation threshold\n",
    "            colname = correlation_matrix.columns[i]\n",
    "            highly_correlated_features.add(colname)\n",
    "\n",
    "selected_features_correlation = X_df.drop(columns=highly_correlated_features)\n",
    "selected_feature_names_correlation = selected_features_correlation.columns.tolist()\n",
    "\n",
    "print(\"Selected features after correlation analysis:\", selected_feature_names_correlation)\n"
   ]
  }
 ],
 "metadata": {
  "kernelspec": {
   "display_name": "Python 3",
   "language": "python",
   "name": "python3"
  },
  "language_info": {
   "codemirror_mode": {
    "name": "ipython",
    "version": 3
   },
   "file_extension": ".py",
   "mimetype": "text/x-python",
   "name": "python",
   "nbconvert_exporter": "python",
   "pygments_lexer": "ipython3",
   "version": "3.12.1"
  }
 },
 "nbformat": 4,
 "nbformat_minor": 2
}
